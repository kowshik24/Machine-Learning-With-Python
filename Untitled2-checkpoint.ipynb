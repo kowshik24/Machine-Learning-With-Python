{
 "cells": [
  {
   "cell_type": "code",
   "execution_count": 17,
   "metadata": {},
   "outputs": [
    {
     "ename": "SyntaxError",
     "evalue": "invalid character in identifier (<ipython-input-17-60068a7ea6f4>, line 6)",
     "output_type": "error",
     "traceback": [
      "\u001b[1;36m  File \u001b[1;32m\"<ipython-input-17-60068a7ea6f4>\"\u001b[1;36m, line \u001b[1;32m6\u001b[0m\n\u001b[1;33m    def info(self):\u001b[0m\n\u001b[1;37m    ^\u001b[0m\n\u001b[1;31mSyntaxError\u001b[0m\u001b[1;31m:\u001b[0m invalid character in identifier\n"
     ]
    }
   ],
   "source": [
    "class Person:\n",
    "    def _init_(self,name, nid):\n",
    "        self.name=name\n",
    "        self.nid = nid\n",
    "        \n",
    "    def info(self):\n",
    "        print(\"Name:\",self.name)\n",
    "        print(\"NID:\",self.nid)\n",
    "\n",
    "\n",
    "# Write your code here:\n",
    "\n",
    "class Teacher:\n",
    "     def _init_(self,name,nid,em_id,s1=\"\" , s2=\"\" , s3=\"\" , s4=\"\"):\n",
    "        self.name=name\n",
    "        self.nid = nid\n",
    "        print(\"Name : \",self.name)\n",
    "        print(\"NID: \",self.nid)\n",
    "        print(\"Employee_ID: \",self.em_id)\n",
    "        subjects=[]\n",
    "        subjects.append(s1)\n",
    "        subjects.append(s2)\n",
    "        subjects.append(s3)\n",
    "        subjects.append(s4)\n",
    "        \n",
    "        print(\"Subject: \")\n",
    "        \n",
    "        print(subjects)\n",
    "        \n",
    "        subjects.clear()\n",
    "        \n",
    "        \n",
    "        \n",
    "        \n",
    "        \n",
    "    \n",
    "Teachers = []\n",
    "\n",
    "P1 = Person(\"Fariha\", 1357924680)\n",
    "P1.info()\n",
    "print(\"1.======================================\")\n",
    "T1 = Teacher(\"Sabur\",8346349712, 3515, \"Math\", \"Physics\")\n",
    "T2 = Teacher(\"Hamid\", 8423657216, 9523,\"Economics\")\n",
    "T3 = Teacher(\"Rufaidah\", 3578951236, \n",
    "7236, \"Math\",\"Chemistry\", \"Biology\", \"Physics\")\n",
    "T4 = Teacher(\"Rimon\", 1930667892, 4228, \"Physics\")\n"
   ]
  },
  {
   "cell_type": "code",
   "execution_count": null,
   "metadata": {},
   "outputs": [],
   "source": []
  }
 ],
 "metadata": {
  "kernelspec": {
   "display_name": "Python 3",
   "language": "python",
   "name": "python3"
  },
  "language_info": {
   "codemirror_mode": {
    "name": "ipython",
    "version": 3
   },
   "file_extension": ".py",
   "mimetype": "text/x-python",
   "name": "python",
   "nbconvert_exporter": "python",
   "pygments_lexer": "ipython3",
   "version": "3.7.4"
  }
 },
 "nbformat": 4,
 "nbformat_minor": 2
}
